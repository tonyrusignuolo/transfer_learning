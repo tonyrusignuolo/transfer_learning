{
 "cells": [
  {
   "cell_type": "code",
   "execution_count": 1,
   "metadata": {},
   "outputs": [],
   "source": [
    "import os\n",
    "\n",
    "from IPython import display\n",
    "import matplotlib.pyplot as plot\n",
    "import numpy as np\n",
    "import pandas as pd\n",
    "import csv\n",
    "from functools import reduce\n",
    "\n",
    "import tensorflow as tf\n",
    "import tensorflow_hub as tfhub\n",
    "import tensorflow_io as tfio\n",
    "import tensorflow_model_optimization as tfmot\n",
    "\n",
    "import params as yamnet_params\n",
    "import yamnet as yamnet_model"
   ]
  },
  {
   "cell_type": "code",
   "execution_count": 2,
   "metadata": {},
   "outputs": [],
   "source": [
    "# load in the yamnet model\n",
    "params = yamnet_params.Params()\n",
    "yamnet = yamnet_model.yamnet_frames_model(params)\n",
    "yamnet.load_weights('yamnet.h5')\n",
    "yamnet_classes = yamnet_model.class_names('yamnet_class_map.csv')"
   ]
  },
  {
   "cell_type": "code",
   "execution_count": 3,
   "metadata": {},
   "outputs": [
    {
     "name": "stdout",
     "output_type": "stream",
     "text": [
      "WARNING:tensorflow:Compiled the loaded model, but the compiled metrics have yet to be built. `model.compile_metrics` will be empty until you train or evaluate the model.\n"
     ]
    },
    {
     "name": "stderr",
     "output_type": "stream",
     "text": [
      "WARNING:absl:Function `_wrapped_model` contains input name(s) waveform_binary 0 with unsupported characters which will be renamed to placeholder in the SavedModel.\n"
     ]
    }
   ],
   "source": [
    "# convert to tflite\n",
    "converter = tf.lite.TFLiteConverter.from_keras_model(yamnet)\n",
    "tflite_model = converter.convert()\n",
    "# save to file called me/yamnet.tflite\n",
    "with open('models/me/yamnet.tflite', 'wb') as f:\n",
    "    f.write(tflite_model)"
   ]
  },
  {
   "cell_type": "code",
   "execution_count": null,
   "metadata": {},
   "outputs": [],
   "source": []
  }
 ],
 "metadata": {
  "interpreter": {
   "hash": "fcc6f3ac80864b41a09a5597412753a4223d9f68d2603bb7195a8422dc11dcbe"
  },
  "kernelspec": {
   "display_name": "Python 3.6.15 ('audio2')",
   "language": "python",
   "name": "python3"
  },
  "language_info": {
   "codemirror_mode": {
    "name": "ipython",
    "version": 3
   },
   "file_extension": ".py",
   "mimetype": "text/x-python",
   "name": "python",
   "nbconvert_exporter": "python",
   "pygments_lexer": "ipython3",
   "version": "3.6.15"
  },
  "orig_nbformat": 4
 },
 "nbformat": 4,
 "nbformat_minor": 2
}
