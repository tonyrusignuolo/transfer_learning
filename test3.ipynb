{
 "cells": [
  {
   "cell_type": "code",
   "execution_count": 17,
   "metadata": {},
   "outputs": [],
   "source": [
    "import tensorflow as tf\n",
    "# import tensorflow_io as tfio\n",
    "import numpy as np\n"
   ]
  },
  {
   "cell_type": "code",
   "execution_count": 3,
   "metadata": {},
   "outputs": [],
   "source": [
    "x = tf.constant(\n",
    "    [\n",
    "        [1.,2.,3.,],\n",
    "        [4.,5.,6.,]\n",
    "    ]\n",
    ")"
   ]
  },
  {
   "cell_type": "code",
   "execution_count": 7,
   "metadata": {},
   "outputs": [
    {
     "data": {
      "text/plain": [
       "<tf.Tensor: shape=(2, 2), dtype=float32, numpy=\n",
       "array([[14., 32.],\n",
       "       [32., 77.]], dtype=float32)>"
      ]
     },
     "execution_count": 7,
     "metadata": {},
     "output_type": "execute_result"
    }
   ],
   "source": [
    "x @ tf.transpose(x)"
   ]
  },
  {
   "cell_type": "code",
   "execution_count": null,
   "metadata": {},
   "outputs": [],
   "source": [
    "tf.keras.layers.Dense()"
   ]
  },
  {
   "cell_type": "code",
   "execution_count": 18,
   "metadata": {},
   "outputs": [],
   "source": [
    "audio = tf.random.normal([3,9152])"
   ]
  },
  {
   "cell_type": "code",
   "execution_count": 19,
   "metadata": {},
   "outputs": [
    {
     "data": {
      "text/plain": [
       "<tf.Tensor: shape=(3, 9152), dtype=float32, numpy=\n",
       "array([[-1.1441374 , -0.16269967, -0.60288286, ...,  1.4515191 ,\n",
       "         0.2933324 ,  0.3342464 ],\n",
       "       [-0.4407681 ,  0.55721277, -0.45458847, ..., -0.6515027 ,\n",
       "        -0.09962724,  0.6606897 ],\n",
       "       [-0.25754538,  2.4003565 ,  0.01341774, ..., -0.54135025,\n",
       "         0.14615609,  0.22613885]], dtype=float32)>"
      ]
     },
     "execution_count": 19,
     "metadata": {},
     "output_type": "execute_result"
    }
   ],
   "source": [
    "audio"
   ]
  },
  {
   "cell_type": "code",
   "execution_count": 20,
   "metadata": {},
   "outputs": [],
   "source": [
    "frames = tf.signal.frame(audio, 512, 180)"
   ]
  },
  {
   "cell_type": "code",
   "execution_count": 21,
   "metadata": {},
   "outputs": [
    {
     "data": {
      "text/plain": [
       "<tf.Tensor: shape=(3, 49, 512), dtype=float32, numpy=\n",
       "array([[[-1.1441374 , -0.16269967, -0.60288286, ..., -0.54998654,\n",
       "          0.6314353 , -0.5963412 ],\n",
       "        [ 1.3512747 ,  0.45674783, -0.68506354, ...,  0.63979185,\n",
       "         -0.71479064, -0.38490787],\n",
       "        [ 0.22327599, -0.0636017 ,  1.1675197 , ..., -2.3027992 ,\n",
       "         -0.4689477 , -1.337452  ],\n",
       "        ...,\n",
       "        [ 0.37291276, -0.2185477 ,  0.3788583 , ..., -0.3387708 ,\n",
       "          0.5602863 , -0.24807116],\n",
       "        [-0.89369786, -0.175412  , -1.768762  , ...,  0.4646627 ,\n",
       "          0.23403631,  1.5711039 ],\n",
       "        [ 0.5362503 , -0.2551124 ,  0.57325363, ...,  1.4515191 ,\n",
       "          0.2933324 ,  0.3342464 ]],\n",
       "\n",
       "       [[-0.4407681 ,  0.55721277, -0.45458847, ..., -1.1514759 ,\n",
       "          0.92753744,  0.74209845],\n",
       "        [-0.39880803,  1.9661865 , -2.0897918 , ...,  0.5041789 ,\n",
       "          1.5986937 , -1.7675714 ],\n",
       "        [-0.33845186,  1.5710562 , -0.67393744, ..., -1.1818653 ,\n",
       "          0.9576815 , -1.3228674 ],\n",
       "        ...,\n",
       "        [ 0.9494128 , -0.8787928 ,  0.50053245, ...,  0.39649758,\n",
       "         -0.79837656, -1.7013236 ],\n",
       "        [-0.0291209 ,  0.45667535,  1.1599566 , ..., -0.5258633 ,\n",
       "         -1.4638335 ,  2.4781995 ],\n",
       "        [ 0.25741312,  0.7322064 , -0.80910534, ..., -0.6515027 ,\n",
       "         -0.09962724,  0.6606897 ]],\n",
       "\n",
       "       [[-0.25754538,  2.4003565 ,  0.01341774, ..., -0.6783772 ,\n",
       "         -0.6392527 ,  0.9734301 ],\n",
       "        [ 0.41074264, -0.32108808,  0.34589458, ...,  1.3317642 ,\n",
       "         -1.3605013 ,  0.0775958 ],\n",
       "        [-1.4969212 , -0.49873906, -0.83484626, ...,  0.95343053,\n",
       "          0.43902865, -0.45670426],\n",
       "        ...,\n",
       "        [-0.87088037, -1.1477884 , -1.0276436 , ..., -0.17650753,\n",
       "         -0.09885873, -1.4901862 ],\n",
       "        [ 0.5649864 , -0.58727676,  0.12269738, ..., -0.0209213 ,\n",
       "          0.7741642 , -0.6532899 ],\n",
       "        [ 1.7926826 , -0.42980602, -0.8215489 , ..., -0.54135025,\n",
       "          0.14615609,  0.22613885]]], dtype=float32)>"
      ]
     },
     "execution_count": 21,
     "metadata": {},
     "output_type": "execute_result"
    }
   ],
   "source": [
    "frames"
   ]
  },
  {
   "cell_type": "code",
   "execution_count": 16,
   "metadata": {},
   "outputs": [
    {
     "data": {
      "text/plain": [
       "24"
      ]
     },
     "execution_count": 16,
     "metadata": {},
     "output_type": "execute_result"
    }
   ],
   "source": [
    "a = [1,2,3,4]\n",
    "mult = 1\n",
    "for num in a:\n",
    "    mult *= num\n",
    "mult"
   ]
  },
  {
   "cell_type": "code",
   "execution_count": null,
   "metadata": {},
   "outputs": [],
   "source": []
  }
 ],
 "metadata": {
  "interpreter": {
   "hash": "5e2b450c708ba1e7d26f69503ec65e90a4b520fcf15818ee100522827ac429a5"
  },
  "kernelspec": {
   "display_name": "Python 3.6.13 ('audio')",
   "language": "python",
   "name": "python3"
  },
  "language_info": {
   "codemirror_mode": {
    "name": "ipython",
    "version": 3
   },
   "file_extension": ".py",
   "mimetype": "text/x-python",
   "name": "python",
   "nbconvert_exporter": "python",
   "pygments_lexer": "ipython3",
   "version": "3.6.13"
  },
  "orig_nbformat": 4
 },
 "nbformat": 4,
 "nbformat_minor": 2
}
